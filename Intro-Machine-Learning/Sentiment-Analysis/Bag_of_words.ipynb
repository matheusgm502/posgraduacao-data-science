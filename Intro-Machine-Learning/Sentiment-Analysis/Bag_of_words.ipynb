{
  "cells": [
    {
      "cell_type": "markdown",
      "metadata": {
        "id": "JnUe44FyE0JX"
      },
      "source": [
        "# Análise de Sentimento - Bag of Words Meets Bag of Popcorn\n",
        "\n",
        "O presente projeto foi realizado para a disciplina Programação para Aprendizagem de Máquina, da pós graduação em Ciência de Dados da Universidade Federal de Pernambuco.\n",
        "\n",
        "Foi utilizada a base de dados da competição do Kaggle \"Bag of words meet bags of popcorns\", que contém 50.000 comentários a respeito de filmes no site do IMDb. Os comentários são divididos em 2 grupos: os que foram acompanhados de notas inferiores a 5 estrelas -rotulados como 0- são de comentários com sentimento negativo a respeito do filme, os que foram acompanhados de notas superiores a 7 -rotulados com 1- são comentários com sentimento positivo.\n",
        "\n",
        "O objetivo do projeto criar um modelo para prever o sentimento do comentário."
      ]
    },
    {
      "cell_type": "markdown",
      "metadata": {
        "id": "XLFzq1qeE0Jc"
      },
      "source": [
        "## Preparando o ambiente"
      ]
    },
    {
      "cell_type": "code",
      "execution_count": 1,
      "metadata": {
        "colab": {
          "base_uri": "https://localhost:8080/"
        },
        "id": "4fe6PP4zE49F",
        "outputId": "d28c1de2-315b-457f-f9a7-f71aa9bcd5c0"
      },
      "outputs": [
        {
          "output_type": "stream",
          "name": "stdout",
          "text": [
            "Mounted at /content/gdrive\n",
            "/content/gdrive/MyDrive\n"
          ]
        }
      ],
      "source": [
        "# Código para o Colab\n",
        "\n",
        "from google.colab import drive\n",
        "drive.mount('/content/gdrive', force_remount=True)\n",
        "\n",
        "%cd /content/gdrive/MyDrive/"
      ]
    },
    {
      "cell_type": "code",
      "execution_count": 21,
      "metadata": {
        "id": "8kdnTPHDE0Je"
      },
      "outputs": [],
      "source": [
        "#Importando bibliotecas relevantes\n",
        "\n",
        "import pandas as pd #Biblioteca para visualização e manipulação de dataframes\n",
        "import numpy as np #Biblioteca com métodos matemáticos como geração aleatória de números, algebra linear, etc\n",
        "\n",
        "#Bibliotecas gráficas para visualização de dados\n",
        "import matplotlib.pyplot as plt\n",
        "import seaborn as sns\n",
        "\n",
        "import nltk #Biblioteca para processamento simbólico e estatístico de linguagem natural\n",
        "from nltk.corpus import stopwords\n",
        "\n",
        "#Bibliotecas para avaliação do modelo\n",
        "from sklearn.metrics import precision_score\n",
        "from sklearn.metrics import recall_score\n",
        "from sklearn.metrics import plot_confusion_matrix\n",
        "\n",
        "from tqdm import tqdm #Biblioteca para visualização do processamos de uma iteração\n",
        "\n",
        "import string"
      ]
    },
    {
      "cell_type": "code",
      "execution_count": 3,
      "metadata": {
        "id": "P1dWI53-E0Ji"
      },
      "outputs": [],
      "source": [
        "#Importando base de dados\n",
        "train = pd.read_csv('labeledTrainData.tsv',sep='\\t')\n",
        "\n",
        "test = pd.read_csv('testData.tsv',sep='\\t')"
      ]
    },
    {
      "cell_type": "code",
      "execution_count": 4,
      "metadata": {
        "colab": {
          "base_uri": "https://localhost:8080/",
          "height": 206
        },
        "id": "dEvgJLAYE0Jk",
        "outputId": "bc3f8be5-3b63-462d-bc5e-d0eaff41f39c"
      },
      "outputs": [
        {
          "output_type": "execute_result",
          "data": {
            "text/plain": [
              "       id  sentiment                                             review\n",
              "0  5814_8          1  With all this stuff going down at the moment w...\n",
              "1  2381_9          1  \\The Classic War of the Worlds\\\" by Timothy Hi...\n",
              "2  7759_3          0  The film starts with a manager (Nicholas Bell)...\n",
              "3  3630_4          0  It must be assumed that those who praised this...\n",
              "4  9495_8          1  Superbly trashy and wondrously unpretentious 8..."
            ],
            "text/html": [
              "\n",
              "  <div id=\"df-d6894e48-f5b8-49bd-acc4-66e966d5dfc0\">\n",
              "    <div class=\"colab-df-container\">\n",
              "      <div>\n",
              "<style scoped>\n",
              "    .dataframe tbody tr th:only-of-type {\n",
              "        vertical-align: middle;\n",
              "    }\n",
              "\n",
              "    .dataframe tbody tr th {\n",
              "        vertical-align: top;\n",
              "    }\n",
              "\n",
              "    .dataframe thead th {\n",
              "        text-align: right;\n",
              "    }\n",
              "</style>\n",
              "<table border=\"1\" class=\"dataframe\">\n",
              "  <thead>\n",
              "    <tr style=\"text-align: right;\">\n",
              "      <th></th>\n",
              "      <th>id</th>\n",
              "      <th>sentiment</th>\n",
              "      <th>review</th>\n",
              "    </tr>\n",
              "  </thead>\n",
              "  <tbody>\n",
              "    <tr>\n",
              "      <th>0</th>\n",
              "      <td>5814_8</td>\n",
              "      <td>1</td>\n",
              "      <td>With all this stuff going down at the moment w...</td>\n",
              "    </tr>\n",
              "    <tr>\n",
              "      <th>1</th>\n",
              "      <td>2381_9</td>\n",
              "      <td>1</td>\n",
              "      <td>\\The Classic War of the Worlds\\\" by Timothy Hi...</td>\n",
              "    </tr>\n",
              "    <tr>\n",
              "      <th>2</th>\n",
              "      <td>7759_3</td>\n",
              "      <td>0</td>\n",
              "      <td>The film starts with a manager (Nicholas Bell)...</td>\n",
              "    </tr>\n",
              "    <tr>\n",
              "      <th>3</th>\n",
              "      <td>3630_4</td>\n",
              "      <td>0</td>\n",
              "      <td>It must be assumed that those who praised this...</td>\n",
              "    </tr>\n",
              "    <tr>\n",
              "      <th>4</th>\n",
              "      <td>9495_8</td>\n",
              "      <td>1</td>\n",
              "      <td>Superbly trashy and wondrously unpretentious 8...</td>\n",
              "    </tr>\n",
              "  </tbody>\n",
              "</table>\n",
              "</div>\n",
              "      <button class=\"colab-df-convert\" onclick=\"convertToInteractive('df-d6894e48-f5b8-49bd-acc4-66e966d5dfc0')\"\n",
              "              title=\"Convert this dataframe to an interactive table.\"\n",
              "              style=\"display:none;\">\n",
              "        \n",
              "  <svg xmlns=\"http://www.w3.org/2000/svg\" height=\"24px\"viewBox=\"0 0 24 24\"\n",
              "       width=\"24px\">\n",
              "    <path d=\"M0 0h24v24H0V0z\" fill=\"none\"/>\n",
              "    <path d=\"M18.56 5.44l.94 2.06.94-2.06 2.06-.94-2.06-.94-.94-2.06-.94 2.06-2.06.94zm-11 1L8.5 8.5l.94-2.06 2.06-.94-2.06-.94L8.5 2.5l-.94 2.06-2.06.94zm10 10l.94 2.06.94-2.06 2.06-.94-2.06-.94-.94-2.06-.94 2.06-2.06.94z\"/><path d=\"M17.41 7.96l-1.37-1.37c-.4-.4-.92-.59-1.43-.59-.52 0-1.04.2-1.43.59L10.3 9.45l-7.72 7.72c-.78.78-.78 2.05 0 2.83L4 21.41c.39.39.9.59 1.41.59.51 0 1.02-.2 1.41-.59l7.78-7.78 2.81-2.81c.8-.78.8-2.07 0-2.86zM5.41 20L4 18.59l7.72-7.72 1.47 1.35L5.41 20z\"/>\n",
              "  </svg>\n",
              "      </button>\n",
              "      \n",
              "  <style>\n",
              "    .colab-df-container {\n",
              "      display:flex;\n",
              "      flex-wrap:wrap;\n",
              "      gap: 12px;\n",
              "    }\n",
              "\n",
              "    .colab-df-convert {\n",
              "      background-color: #E8F0FE;\n",
              "      border: none;\n",
              "      border-radius: 50%;\n",
              "      cursor: pointer;\n",
              "      display: none;\n",
              "      fill: #1967D2;\n",
              "      height: 32px;\n",
              "      padding: 0 0 0 0;\n",
              "      width: 32px;\n",
              "    }\n",
              "\n",
              "    .colab-df-convert:hover {\n",
              "      background-color: #E2EBFA;\n",
              "      box-shadow: 0px 1px 2px rgba(60, 64, 67, 0.3), 0px 1px 3px 1px rgba(60, 64, 67, 0.15);\n",
              "      fill: #174EA6;\n",
              "    }\n",
              "\n",
              "    [theme=dark] .colab-df-convert {\n",
              "      background-color: #3B4455;\n",
              "      fill: #D2E3FC;\n",
              "    }\n",
              "\n",
              "    [theme=dark] .colab-df-convert:hover {\n",
              "      background-color: #434B5C;\n",
              "      box-shadow: 0px 1px 3px 1px rgba(0, 0, 0, 0.15);\n",
              "      filter: drop-shadow(0px 1px 2px rgba(0, 0, 0, 0.3));\n",
              "      fill: #FFFFFF;\n",
              "    }\n",
              "  </style>\n",
              "\n",
              "      <script>\n",
              "        const buttonEl =\n",
              "          document.querySelector('#df-d6894e48-f5b8-49bd-acc4-66e966d5dfc0 button.colab-df-convert');\n",
              "        buttonEl.style.display =\n",
              "          google.colab.kernel.accessAllowed ? 'block' : 'none';\n",
              "\n",
              "        async function convertToInteractive(key) {\n",
              "          const element = document.querySelector('#df-d6894e48-f5b8-49bd-acc4-66e966d5dfc0');\n",
              "          const dataTable =\n",
              "            await google.colab.kernel.invokeFunction('convertToInteractive',\n",
              "                                                     [key], {});\n",
              "          if (!dataTable) return;\n",
              "\n",
              "          const docLinkHtml = 'Like what you see? Visit the ' +\n",
              "            '<a target=\"_blank\" href=https://colab.research.google.com/notebooks/data_table.ipynb>data table notebook</a>'\n",
              "            + ' to learn more about interactive tables.';\n",
              "          element.innerHTML = '';\n",
              "          dataTable['output_type'] = 'display_data';\n",
              "          await google.colab.output.renderOutput(dataTable, element);\n",
              "          const docLink = document.createElement('div');\n",
              "          docLink.innerHTML = docLinkHtml;\n",
              "          element.appendChild(docLink);\n",
              "        }\n",
              "      </script>\n",
              "    </div>\n",
              "  </div>\n",
              "  "
            ]
          },
          "metadata": {},
          "execution_count": 4
        }
      ],
      "source": [
        "train.head()"
      ]
    },
    {
      "cell_type": "code",
      "execution_count": 5,
      "metadata": {
        "colab": {
          "base_uri": "https://localhost:8080/"
        },
        "id": "urU-azBhE0Jl",
        "outputId": "f9e1f7fd-67d9-4918-e0c7-f2f6cbf75f5a"
      },
      "outputs": [
        {
          "output_type": "execute_result",
          "data": {
            "text/plain": [
              "(25000, 3)"
            ]
          },
          "metadata": {},
          "execution_count": 5
        }
      ],
      "source": [
        "train.shape"
      ]
    },
    {
      "cell_type": "code",
      "execution_count": 6,
      "metadata": {
        "colab": {
          "base_uri": "https://localhost:8080/"
        },
        "id": "QBv2_EEatmVg",
        "outputId": "83ab7f85-7f9e-40f8-9688-48cf9abd89a8"
      },
      "outputs": [
        {
          "output_type": "execute_result",
          "data": {
            "text/plain": [
              "sentiment\n",
              "0    12500\n",
              "1    12500\n",
              "Name: id, dtype: int64"
            ]
          },
          "metadata": {},
          "execution_count": 6
        }
      ],
      "source": [
        "train.groupby('sentiment').count().id"
      ]
    },
    {
      "cell_type": "markdown",
      "source": [
        "A base de dados está balanceada, sendo composta por 50% das observações, referentes a um sentimento negativo e os outros 50% a um sentimento positivo."
      ],
      "metadata": {
        "id": "MNKYpiH_uGEe"
      }
    },
    {
      "cell_type": "markdown",
      "metadata": {
        "id": "XUPeGD2UE0Jm"
      },
      "source": [
        "## Metodologia\n",
        "\n",
        "O modelo selecionado para o projeto foi o Naive Bayes Classifier. Esse classificador usa a regra de Bayes para prever o output (sentimento positivo ou negativo) do modelo, dadas as informações do review, conforme descrito abaixo:\n",
        "<br />\n",
        "\n",
        "$       P(sentimento | palavra) = \\frac{P(palavra | sentimento)*P(sentimento)}{P(palavra)}$\n",
        "\n",
        "\n",
        "Em resumo, será contado o uso de palavras nos reviews resultados em cada sentimento e determinada uma probabilidade de cada palavra estar relacionada a um sentimento negativo ou positivo. \n",
        "\n",
        "Um ponto negativo do modelo, importante destacar é que ele não considera a interação entre palavras nem a ordem de aparecimento das mesmas."
      ]
    },
    {
      "cell_type": "markdown",
      "metadata": {
        "id": "jdiOK1HyL5y4"
      },
      "source": [
        "## Implementação"
      ]
    },
    {
      "cell_type": "markdown",
      "metadata": {
        "id": "RaYJ5S3wMBge"
      },
      "source": [
        "Inicialmente, será realizada a preparação dos dados. Nesse processo, as reviews foram separadas em palavras individuais e colocadas em uma lista.\n",
        "\n",
        "Para o modelo, serão usadas as 2.000 palavras mais comuns."
      ]
    },
    {
      "cell_type": "code",
      "execution_count": 7,
      "metadata": {
        "id": "98KBt86rE0Jr",
        "colab": {
          "base_uri": "https://localhost:8080/"
        },
        "outputId": "f604819f-0b8b-4f88-db75-e2da13052408"
      },
      "outputs": [
        {
          "output_type": "stream",
          "name": "stderr",
          "text": [
            "100%|██████████| 25000/25000 [00:01<00:00, 14851.39it/s]\n"
          ]
        }
      ],
      "source": [
        "words = []\n",
        "\n",
        "#Criando lista com palavras mais frequentes\n",
        "for n in tqdm([s for s in train.review.str.split(' ')]):\n",
        "    for w in n:\n",
        "        if (w != ''):\n",
        "            words.append(str.lower(w))\n",
        "        else:\n",
        "            pass\n",
        "\n",
        "all_words = nltk.FreqDist(words)\n",
        "del all_words['']\n",
        "word_features = list(all_words)[:2000]"
      ]
    },
    {
      "cell_type": "markdown",
      "metadata": {
        "id": "QHyf9WlxNdaN"
      },
      "source": [
        "É possível observar a lista de palavras mais comuns das reviews no gráfico abaixo. A maioria delas, aparentemente, não passa um sentimento claro em relação ao filme."
      ]
    },
    {
      "cell_type": "code",
      "execution_count": 8,
      "metadata": {
        "colab": {
          "base_uri": "https://localhost:8080/",
          "height": 317
        },
        "id": "HDmoLRh0GaRA",
        "outputId": "891f83de-56c5-4724-f01b-bc63d815da8c"
      },
      "outputs": [
        {
          "output_type": "display_data",
          "data": {
            "text/plain": [
              "<Figure size 432x288 with 1 Axes>"
            ],
            "image/png": "[encoded data removed]"
          },
          "metadata": {
            "needs_background": "light"
          }
        },
        {
          "output_type": "execute_result",
          "data": {
            "text/plain": [
              "<matplotlib.axes._subplots.AxesSubplot at 0x7f3274202850>"
            ]
          },
          "metadata": {},
          "execution_count": 8
        }
      ],
      "source": [
        "all_words.plot(15)"
      ]
    },
    {
      "cell_type": "markdown",
      "metadata": {
        "id": "uUUH-I4PtmVp"
      },
      "source": [
        "Para aperfeiçoar o modelo, podemos realizar a limpeza e o tratamento da base de dados.\n",
        "\n",
        "Nesse processo, excluímos as chamadas stopwords (ou seja, palavras vazias, que o significado não são relevantes para a análise de sentimento do texto). Além disso, todas as palavras foram colocadas em letra minúscula, para que palavras no início de frase não sejam diferenciadas e todas as pontuações também foram excluídas."
      ]
    },
    {
      "cell_type": "code",
      "execution_count": 11,
      "metadata": {
        "colab": {
          "base_uri": "https://localhost:8080/"
        },
        "id": "-vgaV2GTtmVq",
        "outputId": "00012af4-8e46-4c97-a4f7-431cd608be0a"
      },
      "outputs": [
        {
          "output_type": "stream",
          "name": "stderr",
          "text": [
            "100%|██████████| 25000/25000 [00:01<00:00, 14638.80it/s]\n"
          ]
        }
      ],
      "source": [
        "#!python -m nltk.downloader all\n",
        "\n",
        "train['review'] = train['review'].str.lower()\n",
        "test['review'] = test['review'].str.lower()\n",
        "\n",
        "stop_words = set(stopwords.words('english')) #Lista de palavras vazias\n",
        "words = []\n",
        "\n",
        "#Criando lista com palavras mais frequentes, excluindo palavras vazias\n",
        "for n in tqdm([s for s in train.review.str.split(' ')]):\n",
        "    for w in n:\n",
        "        if (w not in stop_words) & (w != ''):\n",
        "            words.append(str.lower(w))\n",
        "        else:\n",
        "            pass\n",
        "\n",
        "table = str.maketrans('', '', string.punctuation) \n",
        "words = [w.translate(table) for w in words] #excluindo pontuação\n",
        "\n",
        "all_words = nltk.FreqDist(words)\n",
        "del all_words['']\n",
        "del all_words['br']\n",
        "word_features = list(all_words)[:2000]"
      ]
    },
    {
      "cell_type": "markdown",
      "metadata": {
        "id": "T-W67IHNtmVr"
      },
      "source": [
        "Após essa etapa, podemos observar um resultado muito mais compreensível e relevante para o que estamos buscando."
      ]
    },
    {
      "cell_type": "code",
      "execution_count": 12,
      "metadata": {
        "colab": {
          "base_uri": "https://localhost:8080/",
          "height": 317
        },
        "id": "SJXASiZhtmVs",
        "outputId": "1d3cfcb8-1cb6-490f-fe76-e592915b2368"
      },
      "outputs": [
        {
          "output_type": "display_data",
          "data": {
            "text/plain": [
              "<Figure size 432x288 with 1 Axes>"
            ],
            "image/png": "[encoded data removed]"
          },
          "metadata": {
            "needs_background": "light"
          }
        },
        {
          "output_type": "execute_result",
          "data": {
            "text/plain": [
              "<matplotlib.axes._subplots.AxesSubplot at 0x7f327bd0aa10>"
            ]
          },
          "metadata": {},
          "execution_count": 12
        }
      ],
      "source": [
        "all_words.plot(15)"
      ]
    },
    {
      "cell_type": "code",
      "execution_count": 13,
      "metadata": {
        "colab": {
          "base_uri": "https://localhost:8080/"
        },
        "id": "zPJUembFE0Jt",
        "outputId": "5c9ad167-e0bb-49d5-a61a-4eceaae9c027"
      },
      "outputs": [
        {
          "output_type": "stream",
          "name": "stderr",
          "text": [
            "100%|██████████| 25000/25000 [00:01<00:00, 13771.10it/s]\n"
          ]
        }
      ],
      "source": [
        "#Criando arquivo com o formato para o algoritmo\n",
        "documents = []\n",
        "for i in tqdm(range(len(train))):\n",
        "    l=[]\n",
        "    for s in train.review[i].split(' '):\n",
        "        l.append(s)\n",
        "    documents.append((l,train.sentiment[i]))\n",
        "\n",
        "def document_features(document):\n",
        "    document_words = set(document)\n",
        "    features = {}\n",
        "    for word in word_features:\n",
        "        features['contains({})'.format(word)] = (word in document_words)\n",
        "    return features\n",
        "  \n",
        "featuresets = [(document_features(d), c) for (d,c) in documents]"
      ]
    },
    {
      "cell_type": "code",
      "execution_count": 14,
      "metadata": {
        "id": "YAYY95zoNms0"
      },
      "outputs": [],
      "source": [
        "#Dividindo em base de treinamento e teste\n",
        "train_set, test_set = featuresets[5000:], featuresets[:5000]"
      ]
    },
    {
      "cell_type": "code",
      "execution_count": 15,
      "metadata": {
        "id": "yob6Y62iE0Jx"
      },
      "outputs": [],
      "source": [
        "# Treinando o modelo\n",
        "classifier = nltk.NaiveBayesClassifier.train(train_set)"
      ]
    },
    {
      "cell_type": "markdown",
      "metadata": {
        "id": "FRDMfk6xRgXT"
      },
      "source": [
        "## Avaliação do modelo e conclusão"
      ]
    },
    {
      "cell_type": "code",
      "execution_count": 16,
      "metadata": {
        "colab": {
          "base_uri": "https://localhost:8080/"
        },
        "id": "rmbDAbfQRkbV",
        "outputId": "0a4c6270-8f8a-462a-9d24-53db4c6723f7"
      },
      "outputs": [
        {
          "output_type": "stream",
          "name": "stdout",
          "text": [
            "Most Informative Features\n",
            "       contains(unfunny) = True                0 : 1      =     19.4 : 1.0\n",
            "     contains(pointless) = True                0 : 1      =     14.4 : 1.0\n",
            "         contains(waste) = True                0 : 1      =     13.8 : 1.0\n",
            "        contains(poorly) = True                0 : 1      =      9.9 : 1.0\n",
            "     contains(redeeming) = True                0 : 1      =      9.8 : 1.0\n",
            "         contains(worst) = True                0 : 1      =      9.6 : 1.0\n",
            "          contains(lame) = True                0 : 1      =      8.6 : 1.0\n",
            "   contains(wonderfully) = True                1 : 0      =      8.2 : 1.0\n",
            "     contains(laughable) = True                0 : 1      =      7.8 : 1.0\n",
            "   contains(beautifully) = True                1 : 0      =      6.9 : 1.0\n"
          ]
        }
      ],
      "source": [
        "classifier.show_most_informative_features(10)"
      ]
    },
    {
      "cell_type": "markdown",
      "metadata": {
        "id": "sOULdm-nRqBz"
      },
      "source": [
        "O código acima traz as palavras que tem maior peso na tomada de decisão do modelo. Uma review que contém a palavra 'unfunny', por exemplo, tem a probabilidade 19,4 vezes maior de ser do grupo 0 (ter sentimento negativo) do que uma review sem essa palavra."
      ]
    },
    {
      "cell_type": "code",
      "execution_count": 17,
      "metadata": {
        "colab": {
          "base_uri": "https://localhost:8080/"
        },
        "id": "6PZSNIo7E0Jy",
        "outputId": "aaa4fbcd-df29-4d05-bf1b-5d1edb303335"
      },
      "outputs": [
        {
          "output_type": "stream",
          "name": "stdout",
          "text": [
            "Acurracy: 0.8152\n"
          ]
        }
      ],
      "source": [
        "print('Acurracy:', nltk.classify.accuracy(classifier, test_set))"
      ]
    },
    {
      "cell_type": "markdown",
      "metadata": {
        "id": "u1a8W43fSGUB"
      },
      "source": [
        "O modelo conseguiu acertar o sentimento do review em 81,52% dos casos, quando usado na base de teste."
      ]
    },
    {
      "cell_type": "code",
      "execution_count": 18,
      "metadata": {
        "id": "G-oARRG-tmVx"
      },
      "outputs": [],
      "source": [
        "predictions = [nltk.NaiveBayesClassifier.classify(classifier, i[0]) for i in test_set]\n",
        "reference = [i[1] for i in test_set]"
      ]
    },
    {
      "cell_type": "code",
      "execution_count": 19,
      "metadata": {
        "colab": {
          "base_uri": "https://localhost:8080/"
        },
        "id": "3b6vOL0mtmVy",
        "outputId": "f9b11efe-8117-4110-a471-d590dd045469"
      },
      "outputs": [
        {
          "output_type": "stream",
          "name": "stdout",
          "text": [
            "Precision: 0.8069364161849711\n",
            "Recall: 0.831942789034565\n"
          ]
        }
      ],
      "source": [
        "print( 'Precision:', precision_score(reference, predictions))\n",
        "print( 'Recall:', recall_score(reference, predictions))"
      ]
    },
    {
      "cell_type": "markdown",
      "source": [
        "A precisão do modelo (ou seja, o % de vezes que o modelo previu o sentimento 1 e acertou, foi de 80,69%.\n",
        "\n",
        "Já o recall é o percentual de sentimentos positivos que o modelo previu corretamente como positivos, e teve uma métrica de 83,19%."
      ],
      "metadata": {
        "id": "HbHQ0nKuwXZb"
      }
    },
    {
      "cell_type": "code",
      "source": [
        "#Criando confusion matrix\n",
        "matrix = confusion_matrix(reference, \n",
        "                         predictions)/confusion_matrix(reference,\n",
        "                                                      predictions).sum()*100"
      ],
      "metadata": {
        "id": "87CSY2ULzwvH"
      },
      "execution_count": 43,
      "outputs": []
    },
    {
      "cell_type": "code",
      "execution_count": 53,
      "metadata": {
        "colab": {
          "base_uri": "https://localhost:8080/",
          "height": 330
        },
        "id": "KMYh4g-ctmVy",
        "outputId": "b6daae5d-e459-45e0-8577-32e7ca2c8298"
      },
      "outputs": [
        {
          "output_type": "execute_result",
          "data": {
            "text/plain": [
              "Text(0.5, 1.0, 'Matriz de confusão')"
            ]
          },
          "metadata": {},
          "execution_count": 53
        },
        {
          "output_type": "display_data",
          "data": {
            "text/plain": [
              "<Figure size 432x288 with 2 Axes>"
            ],
            "image/png": "[encoded data removed]"
          },
          "metadata": {
            "needs_background": "light"
          }
        },
        {
          "output_type": "display_data",
          "data": {
            "text/plain": [
              "<Figure size 1440x1152 with 0 Axes>"
            ]
          },
          "metadata": {}
        }
      ],
      "source": [
        "ax = sns.heatmap(matrix,annot=True, fmt='.1f')\n",
        "for t in ax.texts: t.set_text(t.get_text() + \" %\")\n",
        "\n",
        "fig = plt.figure(figsize = (20,16))\n",
        "ax.set_ylabel(\"Classe prevista\")\n",
        "ax.set_xlabel(\"Classe real\")\n",
        "ax.set_title(\"Matriz de confusão\")"
      ]
    },
    {
      "cell_type": "markdown",
      "source": [
        "A matriz de confusão aponta como foi a distribuição de previsões do modelo treinado."
      ],
      "metadata": {
        "id": "x4buT0X-1Tn6"
      }
    }
  ],
  "metadata": {
    "colab": {
      "provenance": []
    },
    "kernelspec": {
      "display_name": "Python 3",
      "language": "python",
      "name": "python3"
    },
    "language_info": {
      "codemirror_mode": {
        "name": "ipython",
        "version": 3
      },
      "file_extension": ".py",
      "mimetype": "text/x-python",
      "name": "python",
      "nbconvert_exporter": "python",
      "pygments_lexer": "ipython3",
      "version": "3.7.6"
    },
    "vscode": {
      "interpreter": {
        "hash": "916dbcbb3f70747c44a77c7bcd40155683ae19c65e1c03b4aa3499c5328201f1"
      }
    }
  },
  "nbformat": 4,
  "nbformat_minor": 0
}